{
 "cells": [
  {
   "cell_type": "code",
   "execution_count": 3,
   "metadata": {},
   "outputs": [],
   "source": [
    "from data import load_dataset, load_dataset_as_complex, graph_to_complex\n",
    "from time import time"
   ]
  },
  {
   "cell_type": "code",
   "execution_count": 4,
   "metadata": {},
   "outputs": [
    {
     "name": "stdout",
     "output_type": "stream",
     "text": [
      "Dataset loaded in 8.033021926879883 s\n",
      "Dataset loaded in 7.849362850189209 s\n"
     ]
    }
   ],
   "source": [
    "st = time()\n",
    "dataset = load_dataset()\n",
    "print('Dataset loaded in', time() - st, 's')\n",
    "\n",
    "st = time()\n",
    "complex_dataset = load_dataset_as_complex()\n",
    "print('Dataset loaded in', time() - st, 's')"
   ]
  },
  {
   "cell_type": "code",
   "execution_count": 5,
   "metadata": {},
   "outputs": [
    {
     "name": "stdout",
     "output_type": "stream",
     "text": [
      "Data(x=[24, 14], edge_index=[2, 52], edge_attr=[52, 5], y=[1])\n"
     ]
    }
   ],
   "source": [
    "for data, exp in dataset:\n",
    "    print(data)\n",
    "    break"
   ]
  },
  {
   "cell_type": "code",
   "execution_count": 6,
   "metadata": {},
   "outputs": [
    {
     "name": "stdout",
     "output_type": "stream",
     "text": [
      "{1: {0: 0, 1: 1, 2: 2, 3: 3, 4: 4, 5: 5, 6: 6, 7: 7, 8: 8, 9: 9, 10: 10, 11: 11, 12: 12, 13: 13, 14: 14, 15: 15, 16: 16, 17: 17, 18: 18, 19: 19, 20: 20, 21: 21, 22: 22, 23: 23, 24: 24, 25: 25, 26: 26, 27: 27, 28: 28, 29: 29, 30: 30, 31: 31, 32: 32, 33: 33, 34: 34, 35: 35, 36: 36, 37: 37, 38: 38, 39: 39, 40: 40, 41: 41, 42: 42, 43: 43, 44: 44, 45: 45, 46: 46, 47: 47, 48: 48, 49: 49, 50: 50, 51: 51}, 2: {0: 0, 1: 1, 2: 2, 3: 3, 4: 4, 5: 5, 6: 6, 7: 7, 8: 8, 9: 9, 10: 10, 11: 11, 12: 12, 13: 13, 14: 14, 15: 15, 16: 16, 17: 17, 18: 18, 19: 19, 20: 20, 21: 21, 22: 22, 23: 23, 24: 24, 25: 25, 26: 26, 27: 27, 28: 28, 29: 29, 30: 30, 31: 31, 32: 32, 33: 33, 34: 34, 35: 35, 36: 36, 37: 37, 38: 38, 39: 39, 40: 40, 41: 41, 42: 42, 43: 43, 44: 44, 45: 45, 46: 46, 47: 47, 48: 48, 49: 49, 50: 50, 51: 51}, 3: {0: [31, 50, 37, 35, 33], 1: [31, 50, 37, 35, 33], 2: [31, 50, 37, 35, 33], 3: [31, 50, 37, 35, 33], 4: [31, 50, 37, 35, 33], 5: [1, 46, 9, 7, 5, 3], 6: [1, 46, 9, 7, 5, 3], 7: [1, 46, 9, 7, 5, 3], 8: [1, 46, 9, 7, 5, 3], 9: [1, 46, 9, 7, 5, 3], 10: [1, 46, 9, 7, 5, 3], 11: [21, 23, 25, 27, 48, 19], 12: [21, 23, 25, 27, 48, 19], 13: [21, 23, 25, 27, 48, 19], 14: [21, 23, 25, 27, 48, 19], 15: [21, 23, 25, 27, 48, 19], 16: [21, 23, 25, 27, 48, 19]}, 4: {0: [31, 50, 37, 35, 33], 1: [31, 50, 37, 35, 33], 2: [31, 50, 37, 35, 33], 3: [31, 50, 37, 35, 33], 4: [31, 50, 37, 35, 33], 5: [1, 46, 9, 7, 5, 3], 6: [1, 46, 9, 7, 5, 3], 7: [1, 46, 9, 7, 5, 3], 8: [1, 46, 9, 7, 5, 3], 9: [1, 46, 9, 7, 5, 3], 10: [1, 46, 9, 7, 5, 3], 11: [21, 23, 25, 27, 48, 19], 12: [21, 23, 25, 27, 48, 19], 13: [21, 23, 25, 27, 48, 19], 14: [21, 23, 25, 27, 48, 19], 15: [21, 23, 25, 27, 48, 19], 16: [21, 23, 25, 27, 48, 19]}}\n"
     ]
    }
   ],
   "source": [
    "for data, exp, mapping in complex_dataset:\n",
    "    print(mapping)\n",
    "    break"
   ]
  },
  {
   "cell_type": "code",
   "execution_count": 7,
   "metadata": {},
   "outputs": [
    {
     "name": "stdout",
     "output_type": "stream",
     "text": [
      "Graph to complex in 1.97062087059021 s\n",
      "Graph to complex in 0.0001642184058825175 s per graph\n"
     ]
    }
   ],
   "source": [
    "st = time()\n",
    "for data, exp in dataset:\n",
    "    graph_to_complex(data)\n",
    "et = time()\n",
    "print('Graph to complex in', et - st, 's')\n",
    "print('Graph to complex in', (et - st) / len(dataset), 's per graph')"
   ]
  },
  {
   "cell_type": "code",
   "execution_count": 8,
   "metadata": {},
   "outputs": [],
   "source": [
    "from data import get_data_loaders\n",
    "\n",
    "\n",
    "train_loader, test_loader = get_data_loaders(dataset, batch_size=64)\n",
    "complex_train_loader, complex_test_loader = get_data_loaders(complex_dataset, batch_size=64)"
   ]
  },
  {
   "cell_type": "code",
   "execution_count": 9,
   "metadata": {},
   "outputs": [
    {
     "name": "stdout",
     "output_type": "stream",
     "text": [
      "DataBatch(x=[1301, 14], edge_index=[2, 2740], edge_attr=[2740, 5], y=[64], exp_key=[64], batch=[1301], ptr=[65])\n"
     ]
    }
   ],
   "source": [
    "for data in train_loader:\n",
    "    print(data)\n",
    "    break"
   ]
  },
  {
   "cell_type": "code",
   "execution_count": 10,
   "metadata": {},
   "outputs": [
    {
     "name": "stdout",
     "output_type": "stream",
     "text": [
      "DataBatch(y=[64], edge_index=[2, 10078], x=[4297, 14], node_type=[4297], edge_type=[10078], batch=[4297], ptr=[65])\n"
     ]
    }
   ],
   "source": [
    "for data in complex_train_loader:\n",
    "    print(data)\n",
    "    break"
   ]
  },
  {
   "cell_type": "code",
   "execution_count": 11,
   "metadata": {},
   "outputs": [],
   "source": [
    "import os\n",
    "\n",
    "import torch\n",
    "import torch.nn.functional as F\n",
    "from torch_geometric.nn import GCNConv, GINConv, GATConv\n",
    "from torch_geometric.nn import global_mean_pool\n",
    "\n",
    "class GCN(torch.nn.Module):\n",
    "    def __init__(self, in_dim=None, hidden_dim=None, out_dim=None):\n",
    "        super().__init__()\n",
    "        self.conv1 = GCNConv(in_dim, hidden_dim)\n",
    "        self.conv2 = GCNConv(hidden_dim, hidden_dim)\n",
    "        self.lin = torch.nn.Linear(hidden_dim, out_dim)\n",
    "\n",
    "    def forward(self, x, edge_index, batch):\n",
    "        x = self.conv1(x, edge_index)\n",
    "        x = F.relu(x)\n",
    "        # x = F.dropout(x, training=self.training)\n",
    "        x = self.conv2(x, edge_index)\n",
    "        x = F.relu(x)\n",
    "\n",
    "        x = global_mean_pool(x, batch)\n",
    "        x = self.lin(x)\n",
    "        # sigmoid\n",
    "        x = F.sigmoid(x)\n",
    "        x = x.squeeze(1)\n",
    "        return x"
   ]
  },
  {
   "cell_type": "code",
   "execution_count": 12,
   "metadata": {},
   "outputs": [
    {
     "name": "stdout",
     "output_type": "stream",
     "text": [
      "Training in 35.568952798843384 sossEntropyBackward0>)\n"
     ]
    }
   ],
   "source": [
    "model = GCN(in_dim=14, hidden_dim=64, out_dim=1)\n",
    "\n",
    "# train\n",
    "optimizer = torch.optim.Adam(model.parameters(), lr=0.01, weight_decay=5e-4)\n",
    "model.train()\n",
    "st = time()\n",
    "for epoch in range(50):\n",
    "    for data in train_loader:\n",
    "        optimizer.zero_grad()\n",
    "        out = model(data.x, data.edge_index, data.batch)\n",
    "        loss = F.binary_cross_entropy(out, data.y)\n",
    "        loss.backward()\n",
    "        optimizer.step()\n",
    "    print(epoch, loss, end='\\r')\n",
    "et = time()\n",
    "print('Training in', et - st, 's')"
   ]
  },
  {
   "cell_type": "code",
   "execution_count": 13,
   "metadata": {},
   "outputs": [
    {
     "name": "stdout",
     "output_type": "stream",
     "text": [
      "Training in 99.3596568107605 sCrossEntropyBackward0>)\n"
     ]
    }
   ],
   "source": [
    "complex_model = GCN(in_dim=14, hidden_dim=64, out_dim=1)\n",
    "\n",
    "# train\n",
    "optimizer = torch.optim.Adam(complex_model.parameters(), lr=0.01, weight_decay=5e-4)\n",
    "complex_model.train()\n",
    "st = time()\n",
    "for epoch in range(50):\n",
    "    for data in complex_train_loader:\n",
    "        optimizer.zero_grad()\n",
    "        out = complex_model(data.x, data.edge_index, data.batch)\n",
    "        loss = F.binary_cross_entropy(out, data.y)\n",
    "        loss.backward()\n",
    "        optimizer.step()\n",
    "    print(epoch, loss, end='\\r')\n",
    "et = time()\n",
    "print('Training in', et - st, 's')"
   ]
  },
  {
   "cell_type": "code",
   "execution_count": null,
   "metadata": {},
   "outputs": [],
   "source": []
  }
 ],
 "metadata": {
  "kernelspec": {
   "display_name": ".venv",
   "language": "python",
   "name": "python3"
  },
  "language_info": {
   "codemirror_mode": {
    "name": "ipython",
    "version": 3
   },
   "file_extension": ".py",
   "mimetype": "text/x-python",
   "name": "python",
   "nbconvert_exporter": "python",
   "pygments_lexer": "ipython3",
   "version": "3.10.14"
  }
 },
 "nbformat": 4,
 "nbformat_minor": 2
}
