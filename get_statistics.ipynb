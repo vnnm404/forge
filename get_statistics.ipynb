{
 "cells": [
  {
   "cell_type": "code",
   "execution_count": 36,
   "metadata": {},
   "outputs": [],
   "source": [
    "file_path = \"explanations/graph_FluorideCarbonyl_GCN_GraphMaskExplainer/2024-07-27-17-24-50/complexes_metrics.json\""
   ]
  },
  {
   "cell_type": "code",
   "execution_count": 37,
   "metadata": {},
   "outputs": [
    {
     "name": "stdout",
     "output_type": "stream",
     "text": [
      "dict_keys(['0', '1', '2', '3', '4', '5', '6', '7', '8', '9'])\n"
     ]
    }
   ],
   "source": [
    "import json\n",
    "\n",
    "with open(file_path, \"r\") as f:\n",
    "    data = json.load(f)\n",
    "\n",
    "print(data.keys())"
   ]
  },
  {
   "cell_type": "code",
   "execution_count": 38,
   "metadata": {},
   "outputs": [],
   "source": [
    "best_per_seed = []\n",
    "\n",
    "for seed in data.keys():\n",
    "    metrics = data[seed]\n",
    "\n",
    "    # metrics is a list of dicts\n",
    "\n",
    "    # best metric if the metric with highest \"jaccard\" key\n",
    "    best = max(metrics, key=lambda x: x[\"jaccard\"])\n",
    "\n",
    "    best_per_seed.append(best)"
   ]
  },
  {
   "cell_type": "code",
   "execution_count": 39,
   "metadata": {},
   "outputs": [
    {
     "name": "stdout",
     "output_type": "stream",
     "text": [
      "accuracy: 0.417 +/- 0.022\n",
      "precision: 0.239 +/- 0.012\n",
      "recall: 0.782 +/- 0.022\n",
      "f1: 0.354 +/- 0.015\n",
      "jaccard: 0.231 +/- 0.011\n",
      "auc: 0.548 +/- 0.014\n"
     ]
    }
   ],
   "source": [
    "# metrics look like\n",
    "\n",
    "\"\"\"\n",
    "{'accuracy': 0.5638143498363113,\n",
    "  'precision': 0.11946558996558998,\n",
    "  'recall': 0.0766666666666667,\n",
    "  'f1': 0.0908394294507634,\n",
    "  'jaccard': 0.050478243389923946,\n",
    "  'auc': 0.43758185679344747,\n",
    "  'prop_method': 'direct_prop',\n",
    "  'alpha_c': 0,\n",
    "  'alpha_e': 0}\n",
    "\"\"\"\n",
    "\n",
    "# get average, std of best_per_seed for acc, prec, recall, f1, jacc and auc\n",
    "\n",
    "import numpy as np\n",
    "\n",
    "metrics = [\"accuracy\", \"precision\", \"recall\", \"f1\", \"jaccard\", \"auc\"]\n",
    "\n",
    "for metric in metrics:\n",
    "    values = [best[metric] for best in best_per_seed]\n",
    "    avg = np.mean(values)\n",
    "    std = np.std(values)\n",
    "    print(f\"{metric}: {avg:.3f} +/- {std:.3f}\")"
   ]
  },
  {
   "cell_type": "code",
   "execution_count": 40,
   "metadata": {},
   "outputs": [
    {
     "data": {
      "image/png": "[encoded data removed]",
      "text/plain": [
       "<Figure size 640x480 with 1 Axes>"
      ]
     },
     "metadata": {},
     "output_type": "display_data"
    }
   ],
   "source": [
    "# plot histogram of prop_method in best runs\n",
    "import matplotlib.pyplot as plt\n",
    "\n",
    "prop_methods = [best[\"prop_method\"] for best in best_per_seed]\n",
    "\n",
    "plt.hist(prop_methods)\n",
    "plt.show()"
   ]
  },
  {
   "cell_type": "code",
   "execution_count": 41,
   "metadata": {},
   "outputs": [
    {
     "data": {
      "image/png": "[encoded data removed]",
      "text/plain": [
       "<Figure size 640x480 with 1 Axes>"
      ]
     },
     "metadata": {},
     "output_type": "display_data"
    }
   ],
   "source": [
    "# each seed has 10 metrics, so we have 10*10=100 metrics in total\n",
    "# get all 100 (alpha_e, alpha_c) values and plot on a 2d scatter plot\n",
    "# color the 10 best (alpha_e, alpha_c) values in red\n",
    "\n",
    "alpha_e = []\n",
    "alpha_c = []\n",
    "\n",
    "for seed in data.keys():\n",
    "    metrics = data[seed]\n",
    "    for metric in metrics:\n",
    "        alpha_e.append(metric[\"alpha_e\"])\n",
    "        alpha_c.append(metric[\"alpha_c\"])\n",
    "\n",
    "plt.scatter(alpha_e, alpha_c)\n",
    "plt.scatter([best[\"alpha_e\"] for best in best_per_seed], [best[\"alpha_c\"] for best in best_per_seed], color=\"red\")\n",
    "plt.show()"
   ]
  },
  {
   "cell_type": "code",
   "execution_count": null,
   "metadata": {},
   "outputs": [],
   "source": []
  }
 ],
 "metadata": {
  "kernelspec": {
   "display_name": "dl",
   "language": "python",
   "name": "python3"
  },
  "language_info": {
   "codemirror_mode": {
    "name": "ipython",
    "version": 3
   },
   "file_extension": ".py",
   "mimetype": "text/x-python",
   "name": "python",
   "nbconvert_exporter": "python",
   "pygments_lexer": "ipython3",
   "version": "3.12.3"
  }
 },
 "nbformat": 4,
 "nbformat_minor": 2
}
